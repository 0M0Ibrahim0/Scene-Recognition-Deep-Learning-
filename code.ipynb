{
  "nbformat": 4,
  "nbformat_minor": 0,
  "metadata": {
    "colab": {
      "name": "NewNural.ipynb",
      "provenance": [],
      "private_outputs": true,
      "collapsed_sections": [],
      "machine_shape": "hm"
    },
    "kernelspec": {
      "name": "python3",
      "display_name": "Python 3"
    },
    "accelerator": "GPU"
  },
  "cells": [
    {
      "cell_type": "code",
      "metadata": {
        "id": "dfmlCqujNRza",
        "colab_type": "code",
        "colab": {}
      },
      "source": [
        "!pip uninstall -y kaggle\n",
        "!pip install kaggle==1.5.6\n",
        "%env KAGGLE_USERNAME = muhammadamr\n",
        "%env KAGGLE_KEY = 32b09959276a1bd786b9bebc09a18717\n",
        "!kaggle competitions download -c fcis-sc-deeplearning-competition\n",
        "!unzip '/content/fcis-sc-deeplearning-competition.zip'"
      ],
      "execution_count": 0,
      "outputs": []
    },
    {
      "cell_type": "code",
      "metadata": {
        "id": "32tIItcy_D4j",
        "colab_type": "code",
        "colab": {}
      },
      "source": [
        "import os \n",
        "import csv\n",
        "import numpy as np\n",
        "from tqdm import tqdm\n",
        "from pandas import DataFrame as pd\n",
        "from sklearn.model_selection import train_test_split\n",
        "from keras import models\n",
        "from keras import layers\n",
        "from keras import optimizers\n",
        "from keras.preprocessing.image import ImageDataGenerator\n",
        "from keras.preprocessing.image import load_img\n",
        "from keras.preprocessing.image import img_to_array\n",
        "from keras.applications.vgg16 import preprocess_input as p_vgg16\n",
        "from keras.applications.vgg16 import VGG16\n",
        "from keras.applications.xception import preprocess_input as p_xception\n",
        "from keras.applications.xception import Xception\n",
        "from keras.applications.inception_resnet_v2 import preprocess_input as p_incep\n",
        "from keras.applications.inception_resnet_v2 import InceptionResNetV2\n",
        "from keras.applications.nasnet import preprocess_input as p_nasnet\n",
        "from keras.applications.nasnet import NASNetLarge"
      ],
      "execution_count": 0,
      "outputs": []
    },
    {
      "cell_type": "code",
      "metadata": {
        "id": "otPUrp2d7_Jp",
        "colab_type": "code",
        "colab": {}
      },
      "source": [
        "dic = {'airport_inside': 1, 'bakery': 2, 'bedroom': 3, 'greenhouse': 4, 'gym': 5, 'kitchen': 6, 'operating_room': 7, 'poolinside': 8,'restaurant': 9, 'toystore': 10 }\n",
        "datagen = ImageDataGenerator(\n",
        "    width_shift_range = 0.3,\n",
        "    height_shift_range=0.3,\n",
        "    shear_range=0.2,\n",
        "    zoom_range=0.2,\n",
        "    horizontal_flip=True\n",
        "    )\n",
        "IMG_SIZE_vgg16 = 224\n",
        "IMG_SIZE_xception = 299\n",
        "IMG_SIZE_incep = 299\n",
        "IMG_SIZE_nasnet = 331"
      ],
      "execution_count": 0,
      "outputs": []
    },
    {
      "cell_type": "code",
      "metadata": {
        "id": "f0YCu5oS3rCT",
        "colab_type": "code",
        "colab": {}
      },
      "source": [
        "def loadImage(path, IMG_SIZE, preprocess):\n",
        "    image = load_img(path, target_size=(IMG_SIZE, IMG_SIZE))\n",
        "    image = img_to_array(image)\n",
        "    image = image.reshape((1, image.shape[0], image.shape[1], image.shape[2]))\n",
        "    image = preprocess(image)\n",
        "\n",
        "    return image.reshape((IMG_SIZE, IMG_SIZE, 3))"
      ],
      "execution_count": 0,
      "outputs": []
    },
    {
      "cell_type": "code",
      "metadata": {
        "id": "tr5eFoxnOKzN",
        "colab_type": "code",
        "colab": {}
      },
      "source": [
        "def get_data(IMG_SIZE, preprocess, istot = False):\n",
        "  Xtrain, Ytrain, Xtest, Ytest = [], [], [], []\n",
        "  dir = '/content/train/train'\n",
        "  for file in os.listdir(dir):\n",
        "        filename = os.fsdecode(file)\n",
        "        d = os.path.join(dir, filename)\n",
        "        l, y = [], []\n",
        "        for imag in tqdm(os.listdir(d)):\n",
        "          imag_name = os.fsdecode(imag)\n",
        "          path = os.path.join(d, imag_name)\n",
        "          img = loadImage(path, IMG_SIZE, preprocess)\n",
        "          l.append(img)\n",
        "          tmp = [0.0]*10\n",
        "          tmp[dic[filename]-1]=1.0;\n",
        "          y.append(tmp)\n",
        "        flw = datagen.flow(np.array(l), batch_size=1)\n",
        "        while len(l)<300:\n",
        "            cur = flw.next()\n",
        "            l.append(cur[0])\n",
        "            y.append(tmp)\n",
        "        if istot:\n",
        "          Xtrain += l\n",
        "          Ytrain += y\n",
        "        else :\n",
        "          x_train, x_test, y_train, y_test  = train_test_split(l, y,test_size=0.2, shuffle=True)\n",
        "          Xtrain += x_train\n",
        "          Xtest += x_test\n",
        "          Ytrain += y_train\n",
        "          Ytest += y_test\n",
        "  return np.array([i for i in Xtrain]), np.array([i for i in Ytrain]), np.array([i for i in Xtest]), np.array([i for i in Ytest])"
      ],
      "execution_count": 0,
      "outputs": []
    },
    {
      "cell_type": "code",
      "metadata": {
        "id": "NBkcIIuATLPP",
        "colab_type": "code",
        "colab": {}
      },
      "source": [
        "def get_testData(IMG_SIZE, preprocess):\n",
        "  dir = '/content/test/test'\n",
        "  ID ,images = [],[]\n",
        "  for file in tqdm(os.listdir(dir)):\n",
        "        filename = os.fsdecode(file)\n",
        "        d = os.path.join(dir, filename)\n",
        "        img = loadImage(d, IMG_SIZE, preprocess)\n",
        "        if img is not None:\n",
        "          ID.append(filename)\n",
        "          images.append(img)\n",
        "  return ID, np.array(images)"
      ],
      "execution_count": 0,
      "outputs": []
    },
    {
      "cell_type": "code",
      "metadata": {
        "id": "tbSch4gMtgAD",
        "colab_type": "code",
        "colab": {}
      },
      "source": [
        "def get_model(modl, IMG_SIZE):\n",
        "  vgg_conv = modl(weights='imagenet', include_top=True, input_shape=(IMG_SIZE, IMG_SIZE,3))\n",
        "  last = vgg_conv.get_layer(vgg_conv.layers[-2].name).output\n",
        "  out = layers.Dense(10, activation='softmax')(last)\n",
        "  model = models.Model(inputs=vgg_conv.input, outputs=out)\n",
        "  # Freeze the layers except the last layer\n",
        "  for layer in model.layers[:-1]:\n",
        "      layer.trainable = False\n",
        "  adam = optimizers.adam(0.001, amsgrad=True)\n",
        "  model.compile(loss='categorical_crossentropy', optimizer=adam, metrics=['acc'])\n",
        "  return model"
      ],
      "execution_count": 0,
      "outputs": []
    },
    {
      "cell_type": "code",
      "metadata": {
        "id": "oovG4KdFaEJ_",
        "colab_type": "code",
        "colab": {}
      },
      "source": [
        "def get_prob(predect, expected):\n",
        "  cnt = [0]*10\n",
        "  tot = [0]*10\n",
        "  for i in range(len(predect)):\n",
        "    tot[np.argmax(expected[i])] += 1\n",
        "    if np.argmax(predect[i]) == np.argmax(expected[i]):\n",
        "      cnt[np.argmax(predect[i])] += 1\n",
        "  for i in range(10):\n",
        "    cnt[i] /= tot[i]\n",
        "  return cnt"
      ],
      "execution_count": 0,
      "outputs": []
    },
    {
      "cell_type": "code",
      "metadata": {
        "id": "wd_f5v12nxC1",
        "colab_type": "code",
        "colab": {}
      },
      "source": [
        "def get_weight(prob):\n",
        "  w = []\n",
        "  tot = [0.0]*10\n",
        "  for j in range(len(prob)):\n",
        "    for i in range(10):\n",
        "      tot[i] += prob[j][i]\n",
        "  for j in range(len(prob)):\n",
        "    tmp = [0.0]*10\n",
        "    for i in range(10):\n",
        "      tmp[i] = prob[j][i] / tot[i]\n",
        "    w.append(tmp)\n",
        "  return w"
      ],
      "execution_count": 0,
      "outputs": []
    },
    {
      "cell_type": "code",
      "metadata": {
        "id": "emJGXsAAn3v-",
        "colab_type": "code",
        "colab": {}
      },
      "source": [
        "def getIdx(pred, w):\n",
        "  l = []\n",
        "  for i in range(10):\n",
        "    sum = 0\n",
        "    for j in range(len(pred)):\n",
        "      sum += pred[j][i] * w[j][i]\n",
        "    l.append(sum)\n",
        "  return np.argmax(np.array(l))"
      ],
      "execution_count": 0,
      "outputs": []
    },
    {
      "cell_type": "code",
      "metadata": {
        "id": "5Kysk1QtugCD",
        "colab_type": "code",
        "colab": {}
      },
      "source": [
        "# vgg16 model\n",
        "X_train ,Y_train ,X_test ,Y_test = get_data(IMG_SIZE_vgg16, p_vgg16)\n",
        "model1 = get_model(VGG16, IMG_SIZE_vgg16)\n",
        "print(X_train.shape, Y_train.shape, X_test.shape, Y_test.shape)"
      ],
      "execution_count": 0,
      "outputs": []
    },
    {
      "cell_type": "code",
      "metadata": {
        "id": "ycHbaZaIq3wC",
        "colab_type": "code",
        "colab": {}
      },
      "source": [
        "# fiting vgg16\n",
        "model1.fit(X_train, Y_train, epochs=10, validation_data=(X_test,Y_test), shuffle=1, batch_size=32)\n",
        "# model.fit(X_train, Y_train, epochs=2, shuffle=1)"
      ],
      "execution_count": 0,
      "outputs": []
    },
    {
      "cell_type": "code",
      "metadata": {
        "id": "tWUMUe3qyo6u",
        "colab_type": "code",
        "colab": {}
      },
      "source": [
        "# saving data for further need\n",
        "X_train ,Y_train ,X_test ,Y_test = None, None, None, None\n",
        "test, expected_vgg16, tmp, tmp = get_data(IMG_SIZE_vgg16, p_vgg16, True)\n",
        "# predict all data for some calulation\n",
        "predect_vgg16 = model1.predict(test)\n",
        "test = None\n",
        "print(predect_vgg16.shape)\n",
        "print(expected_vgg16.shape)"
      ],
      "execution_count": 0,
      "outputs": []
    },
    {
      "cell_type": "code",
      "metadata": {
        "id": "M4aSMY5AubuE",
        "colab_type": "code",
        "colab": {}
      },
      "source": [
        "# inception model\n",
        "X_train ,Y_train ,X_test ,Y_test = get_data(IMG_SIZE_incep, p_incep)\n",
        "model2 = get_model(InceptionResNetV2, IMG_SIZE_incep)\n",
        "print(X_train.shape, Y_train.shape, X_test.shape, Y_test.shape)"
      ],
      "execution_count": 0,
      "outputs": []
    },
    {
      "cell_type": "code",
      "metadata": {
        "id": "FbQCIEzxz_df",
        "colab_type": "code",
        "colab": {}
      },
      "source": [
        "# fiting inception\n",
        "model2.fit(X_train, Y_train, epochs=3, validation_data=(X_test,Y_test), shuffle=1, batch_size=32)\n",
        "# model.fit(X_train, Y_train, epochs=2, shuffle=1)"
      ],
      "execution_count": 0,
      "outputs": []
    },
    {
      "cell_type": "code",
      "metadata": {
        "id": "_qk8tzIlz_-7",
        "colab_type": "code",
        "colab": {}
      },
      "source": [
        "# saving data for further need\n",
        "X_train ,Y_train ,X_test ,Y_test = None, None, None, None\n",
        "test, expected_incep, tmp, tmp = get_data(IMG_SIZE_incep, p_incep, True)\n",
        "# predict all data for some calulation\n",
        "predect_incep = model2.predict(test)\n",
        "test = None\n",
        "print(predect_incep.shape)\n",
        "print(expected_incep.shape)"
      ],
      "execution_count": 0,
      "outputs": []
    },
    {
      "cell_type": "code",
      "metadata": {
        "id": "dJOW6nDL9WXd",
        "colab_type": "code",
        "colab": {}
      },
      "source": [
        "# nasnet model\n",
        "X_train ,Y_train ,X_test ,Y_test = get_data(IMG_SIZE_nasnet, p_nasnet)\n",
        "model3 = get_model(NASNetLarge, IMG_SIZE_nasnet)\n",
        "print(X_train.shape, Y_train.shape, X_test.shape, Y_test.shape)"
      ],
      "execution_count": 0,
      "outputs": []
    },
    {
      "cell_type": "code",
      "metadata": {
        "id": "HCUgM_tZ4M-7",
        "colab_type": "code",
        "colab": {}
      },
      "source": [
        "# fiting nasnet\n",
        "model3.fit(X_train, Y_train, epochs=10, validation_data=(X_test,Y_test), shuffle=1, batch_size=64)\n",
        "# model.fit(X_train, Y_train, epochs=2, shuffle=1)"
      ],
      "execution_count": 0,
      "outputs": []
    },
    {
      "cell_type": "code",
      "metadata": {
        "id": "cYg4tHEB4Nt2",
        "colab_type": "code",
        "colab": {}
      },
      "source": [
        "# saving data for further need\n",
        "X_train ,Y_train ,X_test ,Y_test = None, None, None, None\n",
        "test, expected_nasnet, tmp, tmp = get_data(IMG_SIZE_nasnet, p_nasnet, True)\n",
        "# predict all data for some calulation\n",
        "predect_nasnet = model3.predict(test)\n",
        "test = None\n",
        "print(predect_nasnet.shape)\n",
        "print(expected_nasnet.shape)"
      ],
      "execution_count": 0,
      "outputs": []
    },
    {
      "cell_type": "code",
      "metadata": {
        "id": "PfsJAOuvKBnM",
        "colab_type": "code",
        "colab": {}
      },
      "source": [
        "# xception model\n",
        "X_train ,Y_train ,X_test ,Y_test = get_data(IMG_SIZE_xception, p_xception)\n",
        "model4 = get_model(Xception, IMG_SIZE_xception)\n",
        "print(X_train.shape, Y_train.shape, X_test.shape, Y_test.shape)"
      ],
      "execution_count": 0,
      "outputs": []
    },
    {
      "cell_type": "code",
      "metadata": {
        "id": "zbAiPBYoD8Jr",
        "colab_type": "code",
        "colab": {}
      },
      "source": [
        "# fiting inception\n",
        "model4.fit(X_train, Y_train, epochs=10, validation_data=(X_test,Y_test), shuffle=1, batch_size=64)\n",
        "# model.fit(X_train, Y_train, epochs=2, shuffle=1)"
      ],
      "execution_count": 0,
      "outputs": []
    },
    {
      "cell_type": "code",
      "metadata": {
        "id": "81nthE0bEC-v",
        "colab_type": "code",
        "colab": {}
      },
      "source": [
        "# saving data for further need\n",
        "X_train ,Y_train ,X_test ,Y_test = None, None, None, None\n",
        "test, expected_xception, tmp, tmp = get_data(IMG_SIZE_xception, p_xception, True)\n",
        "# predict all data for some calulation\n",
        "predect_xception = model4.predict(test)\n",
        "test = None\n",
        "print(predect_xception.shape)\n",
        "print(expected_xception.shape)"
      ],
      "execution_count": 0,
      "outputs": []
    },
    {
      "cell_type": "code",
      "metadata": {
        "id": "7Ffod8NALm3f",
        "colab_type": "code",
        "colab": {}
      },
      "source": [
        "prob1 = get_prob(predect_vgg16, expected_vgg16)\n",
        "prob2 = get_prob(predect_incep, expected_incep)\n",
        "prob3 = get_prob(predect_nasnet, expected_nasnet)\n",
        "prob4 = get_prob(predect_xception, expected_xception)\n",
        "w = get_weight([prob1, prob2, prob3, prob4])"
      ],
      "execution_count": 0,
      "outputs": []
    },
    {
      "cell_type": "code",
      "metadata": {
        "id": "HNfYQL7ZKMfF",
        "colab_type": "code",
        "colab": {}
      },
      "source": [
        "w = get_weight([prob1, prob3, prob4])"
      ],
      "execution_count": 0,
      "outputs": []
    },
    {
      "cell_type": "code",
      "metadata": {
        "id": "uYAhdFnA38Mj",
        "colab_type": "code",
        "colab": {}
      },
      "source": [
        "X_train ,Y_train ,X_test ,Y_test = None,None, None, None\n",
        "test = None\n",
        "print(w[0])\n",
        "print(w[1])\n",
        "print(w[2])\n",
        "print(w[3])"
      ],
      "execution_count": 0,
      "outputs": []
    },
    {
      "cell_type": "code",
      "metadata": {
        "id": "k2K4tEBMfke5",
        "colab_type": "code",
        "colab": {}
      },
      "source": [
        "#loding test\n",
        "ID, test = get_testData(IMG_SIZE_vgg16, p_vgg16)\n",
        "predect_vgg16 = model1.predict(test)\n",
        "ID, test = get_testData(IMG_SIZE_incep, p_incep)\n",
        "predect_incep = model2.predict(test)\n",
        "ID, test = get_testData(IMG_SIZE_nasnet, p_nasnet)\n",
        "predect_nasnet = model3.predict(test)\n",
        "ID, test = get_testData(IMG_SIZE_xception, p_xception)\n",
        "predect_xception = model4.predict(test)"
      ],
      "execution_count": 0,
      "outputs": []
    },
    {
      "cell_type": "code",
      "metadata": {
        "id": "F8YbvUIkWCBv",
        "colab_type": "code",
        "colab": {}
      },
      "source": [
        "file = []\n",
        "for i in range(772):\n",
        "  # idx = getIdx([predect_vgg16[i], predect_incep[i], predect_nasnet[i], predect_xception[i]],w)\n",
        "  idx = getIdx([predect_vgg16[i], predect_nasnet[i], predect_xception[i]],w)\n",
        "  label = idx + 1\n",
        "  file.append([ID[i], label])\n",
        "\n",
        "# file.append(['1412_mb_file_0a8c5_gif.jpg', '4'])\n",
        "\n",
        "pd(np.array(file), columns=['Id', 'Label']).to_csv('submit.csv', index = False)\n"
      ],
      "execution_count": 0,
      "outputs": []
    },
    {
      "cell_type": "code",
      "metadata": {
        "id": "4ReBnpheQDv2",
        "colab_type": "code",
        "colab": {}
      },
      "source": [
        "model1.save('vgg16.h5')\n",
        "model2.save('inceptionResnet.h5')\n",
        "model3.save('nasnet.h5')\n",
        "model4.save('Xception.h5')"
      ],
      "execution_count": 0,
      "outputs": []
    }
  ]
}